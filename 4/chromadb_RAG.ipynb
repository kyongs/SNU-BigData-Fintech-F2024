{
  "cells": [
    {
      "cell_type": "code",
      "execution_count": null,
      "metadata": {
        "colab": {
          "base_uri": "https://localhost:8080/"
        },
        "collapsed": true,
        "id": "jhd6AGIqD0bF",
        "outputId": "b2f625b5-0ce7-46f3-ec49-baef246dafe4"
      },
      "outputs": [],
      "source": [
        "! pip install chromadb\n",
        "! pip install openai"
      ]
    },
    {
      "cell_type": "code",
      "execution_count": 2,
      "metadata": {
        "id": "ML5lJgG_EZWC"
      },
      "outputs": [],
      "source": [
        "import chromadb\n",
        "from openai import OpenAI"
      ]
    },
    {
      "cell_type": "code",
      "execution_count": 3,
      "metadata": {
        "id": "h8KMTEycIBSD"
      },
      "outputs": [],
      "source": [
        "openai_client = OpenAI(\n",
        "    api_key='YOUR-OPENAI-API',\n",
        ")"
      ]
    },
    {
      "cell_type": "code",
      "execution_count": 4,
      "metadata": {
        "id": "eHqr0sCIH_vz"
      },
      "outputs": [],
      "source": [
        "chroma_client = chromadb.Client()"
      ]
    },
    {
      "cell_type": "code",
      "execution_count": 6,
      "metadata": {
        "id": "vz0YggcrEf6i"
      },
      "outputs": [],
      "source": [
        "# 이미 collection이 기존에 있다면\n",
        "# chroma_client.delete_collection(name=\"fruit-db\")\n",
        "\n",
        "# 기존 collection에 계속 추가하고 싶다면\n",
        "# collection = chroma_client.get_collection(name=\"fruite-db\")\n",
        "\n",
        "collection = chroma_client.create_collection(\n",
        "        name=\"fruit-db\",\n",
        "        metadata={\"hnsw:space\": \"cosine\"} # l2 is the default\n",
        "    )"
      ]
    },
    {
      "cell_type": "code",
      "execution_count": 7,
      "metadata": {
        "id": "9vBihYdIEgVj"
      },
      "outputs": [],
      "source": [
        "collection.add(\n",
        "    documents=[\n",
        "        \"Orange is rich in vitamin C, which helps strengthen the immune system. With its tangy and sweet flavor, oranges are particularly popular in summer, and their juice is used in a variety of beverages.\",\n",
        "        \"Grapes grow in clusters of many small berries. They are rich in vitamin K and antioxidants, which benefit cardiovascular health. Red grapes, in particular, contain resveratrol, which may help in anti-aging.\",\n",
        "        \"Apple comes in various varieties, each with different tastes and textures. Apples are high in fiber, which supports digestive health, and contain a range of vitamins and minerals that aid in balanced nutrition.\",\n",
        "        \"Banana is easily digestible and provides quick energy, making it a good choice for post-exercise recovery. Rich in potassium, bananas help regulate blood pressure and are commonly used in smoothies or as a snack.\",\n",
        "        \"Kiwi has a small, fuzzy skin but is filled with a fresh, sweet juice inside. It is rich in vitamins C and E, which are effective for skin health and boosting the immune system.\",\n",
        "        \"Strawberry is loved for its red color and fragrant taste. It is packed with antioxidants that can help reduce inflammation and is often used in desserts or salads due to its sweet flavor.\",\n",
        "        \"Mango is a tropical fruit with a sweet and rich flavor. It is high in vitamins A and C, which support skin health and immunity, and is used in various dishes and beverages.\",\n",
        "        \"Pineapple is a tropical fruit known for its tangy and sweet taste and contains the digestive enzyme bromelain. This enzyme aids digestion, and pineapple is often used in juices.\",\n",
        "        \"Peach is a summer fruit known for its soft skin and sweet taste. Rich in vitamins A and C, it supports skin and immune system health and is used in a variety of desserts and dishes.\",\n",
        "        \"Pear is a crisp and refreshing fruit popular in the summer. With its high water content and vitamin C, it is effective for quenching thirst and boosting immunity.\",\n",
        "        \"Grapefruit is known for its tangy and slightly bitter taste, which can help stimulate metabolism. It is rich in vitamin C, benefiting immune health and skin care.\",\n",
        "        \"Pomegranate contains many seeds, which are sweet and juicy. It is rich in antioxidants, which can benefit cardiovascular health and have potential anti-cancer effects.\",\n",
        "        \"Mangosteen is a tropical fruit with a unique taste and aroma. It is high in vitamin C and antioxidants, which can support immune health and help with anti-aging.\",\n",
        "        \"Blueberry is small but packed with antioxidants that support cognitive function and heart health. It is often used in smoothies and desserts.\",\n",
        "        \"Mulberry is a dark purple fruit with a tangy and sweet taste. It is rich in vitamin C and dietary fiber, which can boost immunity and support digestive health.\",\n",
        "    ],\n",
        "    ids=[\"1\", \"2\", \"3\", \"4\", \"5\", \"6\", \"7\", \"8\", \"9\", \"10\", \"11\", \"12\", \"13\", \"14\", \"15\" ]\n",
        "\n",
        ")"
      ]
    },
    {
      "cell_type": "code",
      "execution_count": 8,
      "metadata": {
        "id": "tSxPv7h6Hfxm"
      },
      "outputs": [],
      "source": [
        "def retrieve_documents(query, collection):\n",
        "    results = collection.query(query_texts=[query], n_results=1)\n",
        "    most_similar_doc = results['documents']\n",
        "\n",
        "    return most_similar_doc"
      ]
    },
    {
      "cell_type": "code",
      "execution_count": 9,
      "metadata": {
        "id": "R4_WwIckJrmh"
      },
      "outputs": [],
      "source": [
        "def generate_response_RAG(query, relevant_document):\n",
        "    prompt = f\"Given the following document: '{relevant_document}', answer the query: '{query}'\"\n",
        "\n",
        "    response = openai_client.chat.completions.create(\n",
        "    messages=[\n",
        "        {\n",
        "              \"role\": \"user\",\n",
        "              \"content\": prompt,\n",
        "          }\n",
        "      ],\n",
        "      model=\"gpt-3.5-turbo\",\n",
        "    )\n",
        "\n",
        "    return response.choices[0].message.content"
      ]
    },
    {
      "cell_type": "code",
      "execution_count": 10,
      "metadata": {
        "id": "JUTbXlOmOmYE"
      },
      "outputs": [],
      "source": [
        "def generate_response_llm(query):\n",
        "    prompt = f\"Answer the query: '{query}'\"\n",
        "\n",
        "    response = openai_client.chat.completions.create(\n",
        "    messages=[\n",
        "        {\n",
        "              \"role\": \"user\",\n",
        "              \"content\": prompt,\n",
        "          }\n",
        "      ],\n",
        "      model=\"gpt-3.5-turbo\",\n",
        "    )\n",
        "\n",
        "    return response.choices[0].message.content"
      ]
    },
    {
      "cell_type": "code",
      "execution_count": 11,
      "metadata": {
        "id": "33lxX59xJtXp"
      },
      "outputs": [],
      "source": [
        "def rag_system(query, collection):\n",
        "    relevant_document = retrieve_documents(query, collection)\n",
        "    response = generate_response_RAG(query, relevant_document)\n",
        "    return response"
      ]
    },
    {
      "cell_type": "code",
      "execution_count": 12,
      "metadata": {
        "colab": {
          "base_uri": "https://localhost:8080/"
        },
        "id": "EzKHIEm3J38t",
        "outputId": "e8a8e6ad-8838-4d02-ed1b-0931f8a6db4e"
      },
      "outputs": [
        {
          "name": "stdout",
          "output_type": "stream",
          "text": [
            "[Query] \n",
            " Why is vitamin C important for health, and which fruits are high in it?\n",
            "=======================================================================\n",
            "[Response using LLM only] \n",
            " Vitamin C is important for maintaining overall health because it plays a crucial role in boosting the immune system, promoting healthy skin, wound healing, and aiding in the absorption of iron. It is also a powerful antioxidant that helps protect cells from damage caused by free radicals.\n",
            "\n",
            "Some fruits that are high in vitamin C include:\n",
            "\n",
            "1. Oranges\n",
            "2. Kiwi\n",
            "3. Strawberries\n",
            "4. Guava\n",
            "5. Pineapple\n",
            "6. Mango\n",
            "7. Papaya\n",
            "8. Kiwi\n",
            "9. Cantaloupe\n",
            "10. Citrus fruits like lemons, limes, and grapefruits\n",
            "\n",
            "Including these fruits in your diet regularly can help ensure you are getting enough vitamin C to support your overall health and well-being.\n",
            "=======================================================================\n",
            "[Response using RAG] \n",
            " Vitamin C is important for health because it helps strengthen the immune system. Oranges are high in vitamin C and are particularly popular in summer due to their tangy and sweet flavor.\n"
          ]
        }
      ],
      "source": [
        "query = \"Why is vitamin C important for health, and which fruits are high in it?\"\n",
        "response1 = generate_response_llm(query)\n",
        "response2 = rag_system(query, collection)\n",
        "\n",
        "print(\"[Query] \\n\", query)\n",
        "print(\"=======================================================================\")\n",
        "print(\"[Response using LLM only] \\n\",response1)\n",
        "print(\"=======================================================================\")\n",
        "print(\"[Response using RAG] \\n\",response2)\n",
        "\n",
        "# other possible queries\n",
        "# \"What are the health benefits of oranges?\"\n",
        "# \"How does eating grapes support cardiovascular health?\"\n",
        "# \"What vitamins are found in kiwis and how do they benefit health?\"\n",
        "# \"Describe the taste and texture of a peach.\"\n",
        "# \"How is a banana useful for post-exercise recovery?\"\n",
        "# \"What makes a pomegranate unique among fruits?\"\n",
        "# \"How are strawberries commonly used in recipes?\"\n",
        "# \"What are some common ways to consume mangosteen?\"\n",
        "# \"In what types of dishes can mango be used?\"\n",
        "# \"Compare the health benefits of pears and apples.\"\n",
        "# \"How does the vitamin C content in grapefruits compare to that in oranges?\"\n",
        "# \"What are the differences between blueberries and strawberries in terms of antioxidants?\"\n",
        "# \"What enzyme does pineapple contain and what is its function?\"\n",
        "# \"What are the key nutritional components of a kiwi?\"\n",
        "# \"Describe the appearance and taste of mulberries.\"\n",
        "# \"Why is vitamin C important for health, and which fruits are high in it?\"\n",
        "# \"How can antioxidants benefit your body, and which fruits are good sources?\"\n",
        "# \"What are the benefits of dietary fiber found in fruits like pears and apples?\"\n",
        "# \"What are some traditional dishes that use mangoes in tropical regions?\"\n",
        "# \"How is grapefruit used in different cuisines around the world?\"\n",
        "# \"In which regions are pomegranates considered a staple fruit?\""
      ]
    },
    {
      "cell_type": "code",
      "execution_count": null,
      "metadata": {
        "id": "t4aG77AlO8wz"
      },
      "outputs": [],
      "source": []
    }
  ],
  "metadata": {
    "colab": {
      "provenance": []
    },
    "kernelspec": {
      "display_name": "Python 3.11.4 64-bit",
      "language": "python",
      "name": "python3"
    },
    "language_info": {
      "name": "python",
      "version": "3.11.4"
    },
    "vscode": {
      "interpreter": {
        "hash": "aee8b7b246df8f9039afb4144a1f6fd8d2ca17a180786b69acc140d282b71a49"
      }
    }
  },
  "nbformat": 4,
  "nbformat_minor": 0
}
